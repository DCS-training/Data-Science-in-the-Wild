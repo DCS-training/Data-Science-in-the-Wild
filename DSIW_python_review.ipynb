{
  "nbformat": 4,
  "nbformat_minor": 0,
  "metadata": {
    "colab": {
      "provenance": [],
      "collapsed_sections": []
    },
    "kernelspec": {
      "name": "python3",
      "display_name": "Python 3"
    },
    "language_info": {
      "name": "python"
    }
  },
  "cells": [
    {
      "cell_type": "markdown",
      "source": [
        "# Welcome to the collab notebook for Data Science in the Wild! \n",
        "First we'll start by reviewing some python basics, before getting into the main python data analysis package called pandas."
      ],
      "metadata": {
        "id": "b-Jv4kpStr3M"
      }
    },
    {
      "cell_type": "markdown",
      "source": [
        "### Concept 1: Printing"
      ],
      "metadata": {
        "id": "jJIBEJGyuxrc"
      }
    },
    {
      "cell_type": "code",
      "execution_count": 2,
      "metadata": {
        "colab": {
          "base_uri": "https://localhost:8080/"
        },
        "id": "WF1vv4qKtdho",
        "outputId": "21cdf111-fc3e-4fa2-ba99-5fb777daf072"
      },
      "outputs": [
        {
          "output_type": "stream",
          "name": "stdout",
          "text": [
            "Hello World!\n",
            "My name is Bhargavi and I'm a PhD student at the University of Edinburgh\n"
          ]
        }
      ],
      "source": [
        "# Printing text\n",
        "print(\"Hello World!\")\n",
        "\n",
        "# Printing your name and affiliation\n",
        "print(\"My name is Bhargavi and I'm a PhD student at the University of Edinburgh\")"
      ]
    },
    {
      "cell_type": "markdown",
      "source": [
        "### Concept 2: Storing information in variables"
      ],
      "metadata": {
        "id": "UpVqfPpcwol5"
      }
    },
    {
      "cell_type": "markdown",
      "source": [
        "There are 3 main different variable types:\n",
        "\n",
        "\n",
        "*   string\n",
        "*   integer\n",
        "*   float\n",
        "\n",
        "\n",
        "\n"
      ],
      "metadata": {
        "id": "c3YcVwWFJu22"
      }
    },
    {
      "cell_type": "markdown",
      "source": [
        "To review:\n",
        "\n",
        "\n",
        "*   Strings go in quotations\n",
        "*   Integers are whole numbers\n",
        "*   Floats have decimal points\n",
        "\n",
        "\n",
        "\n"
      ],
      "metadata": {
        "id": "lVO_QCMTDRre"
      }
    },
    {
      "cell_type": "code",
      "source": [
        "my_string = \"What's today's highest temperature?\"\n",
        "my_integer = 18\n",
        "my_float = 6.57\n",
        "\n",
        "print(my_string)\n",
        "print(my_integer)\n",
        "print(my_float)"
      ],
      "metadata": {
        "colab": {
          "base_uri": "https://localhost:8080/"
        },
        "id": "PAVimfB6DOAf",
        "outputId": "7db961cc-b7a4-4d05-acdb-43c150437699"
      },
      "execution_count": 3,
      "outputs": [
        {
          "output_type": "stream",
          "name": "stdout",
          "text": [
            "What's today's highest temperature?\n",
            "18\n",
            "6.57\n"
          ]
        }
      ]
    },
    {
      "cell_type": "markdown",
      "source": [
        "Variable type mismatches are very common issues in the \"wild\""
      ],
      "metadata": {
        "id": "m6GelTRfCPsl"
      }
    },
    {
      "cell_type": "code",
      "source": [
        "print(\"the sum is: \", my_integer + my_float)"
      ],
      "metadata": {
        "colab": {
          "base_uri": "https://localhost:8080/"
        },
        "id": "qV8l82AEv-6l",
        "outputId": "ed258d57-4f57-45bb-97c2-895a15b1fca4"
      },
      "execution_count": 4,
      "outputs": [
        {
          "output_type": "stream",
          "name": "stdout",
          "text": [
            "the sum is:  24.57\n"
          ]
        }
      ]
    },
    {
      "cell_type": "code",
      "source": [
        "print(my_string + my_integer)"
      ],
      "metadata": {
        "colab": {
          "base_uri": "https://localhost:8080/",
          "height": 169
        },
        "id": "mXa1HB01dQgI",
        "outputId": "08bd897c-3150-4bc1-91f3-8dec14959efa"
      },
      "execution_count": 5,
      "outputs": [
        {
          "output_type": "error",
          "ename": "TypeError",
          "evalue": "ignored",
          "traceback": [
            "\u001b[0;31m---------------------------------------------------------------------------\u001b[0m",
            "\u001b[0;31mTypeError\u001b[0m                                 Traceback (most recent call last)",
            "\u001b[0;32m<ipython-input-5-cbaaed36ef97>\u001b[0m in \u001b[0;36m<module>\u001b[0;34m\u001b[0m\n\u001b[0;32m----> 1\u001b[0;31m \u001b[0mprint\u001b[0m\u001b[0;34m(\u001b[0m\u001b[0mmy_string\u001b[0m \u001b[0;34m+\u001b[0m \u001b[0mmy_integer\u001b[0m\u001b[0;34m)\u001b[0m\u001b[0;34m\u001b[0m\u001b[0;34m\u001b[0m\u001b[0m\n\u001b[0m",
            "\u001b[0;31mTypeError\u001b[0m: can only concatenate str (not \"int\") to str"
          ]
        }
      ]
    },
    {
      "cell_type": "markdown",
      "source": [
        "How do we fix this?"
      ],
      "metadata": {
        "id": "yASC3svjRuB5"
      }
    },
    {
      "cell_type": "code",
      "source": [
        "print(my_string + str(my_integer))"
      ],
      "metadata": {
        "colab": {
          "base_uri": "https://localhost:8080/"
        },
        "id": "pYlIWFt6Rrlc",
        "outputId": "a57aca8c-2363-4c02-ff1f-31d63be41f5c"
      },
      "execution_count": 6,
      "outputs": [
        {
          "output_type": "stream",
          "name": "stdout",
          "text": [
            "What's today's highest temperature?18\n"
          ]
        }
      ]
    },
    {
      "cell_type": "code",
      "source": [
        "#Fix spacing and add text\n",
        "print(my_string + \" \" + str(my_integer) + \" degrees celsius\")"
      ],
      "metadata": {
        "colab": {
          "base_uri": "https://localhost:8080/"
        },
        "id": "qlh6Y1bKrDrV",
        "outputId": "6d954f89-11ff-478c-e571-1e427b17c6c9"
      },
      "execution_count": 7,
      "outputs": [
        {
          "output_type": "stream",
          "name": "stdout",
          "text": [
            "What's today's highest temperature? 18 degrees celsius\n"
          ]
        }
      ]
    },
    {
      "cell_type": "markdown",
      "source": [
        "### Operations\n",
        "\n",
        "The following numeric operations are possible in python:\n",
        "\n",
        "\n",
        "*   Addition and subtraction: (+) and (-), as you'd expect\n",
        "*   Multiplication and division: (*) and (/)\n",
        "*   Floor division: (//) division that results in an integer always (no remainder)\n",
        "*   Modulus (%): Returns the remainder when the first number is divided by the second\n",
        "*   Power (**): Returns first raised to the power of the second\n",
        "\n",
        "\n",
        "\n",
        "\n",
        "\n",
        "\n"
      ],
      "metadata": {
        "id": "nhkRsq2jr6Zp"
      }
    },
    {
      "cell_type": "markdown",
      "source": [
        "### Concept 3: Data Structures; Lists and Dictionaries"
      ],
      "metadata": {
        "id": "RJSTdMjUSVne"
      }
    },
    {
      "cell_type": "code",
      "source": [
        "london_sights = [\"buckingham palace\", \"tower of london\", \"british museum\", \"london eye\"]\n",
        "print(london_sights)"
      ],
      "metadata": {
        "colab": {
          "base_uri": "https://localhost:8080/"
        },
        "id": "1UgoQyZXSs9_",
        "outputId": "39dadbd5-4e0d-4ef4-d6da-d1ea8796e079"
      },
      "execution_count": 8,
      "outputs": [
        {
          "output_type": "stream",
          "name": "stdout",
          "text": [
            "['buckingham palace', 'tower of london', 'british museum', 'london eye']\n"
          ]
        }
      ]
    },
    {
      "cell_type": "code",
      "source": [
        "#slice into a list\n",
        "london_sights[1]"
      ],
      "metadata": {
        "colab": {
          "base_uri": "https://localhost:8080/",
          "height": 35
        },
        "id": "0TIv60WyUr6W",
        "outputId": "6da7805c-a0f7-4e2e-cac5-6e9f8d720d93"
      },
      "execution_count": 9,
      "outputs": [
        {
          "output_type": "execute_result",
          "data": {
            "text/plain": [
              "'tower of london'"
            ],
            "application/vnd.google.colaboratory.intrinsic+json": {
              "type": "string"
            }
          },
          "metadata": {},
          "execution_count": 9
        }
      ]
    },
    {
      "cell_type": "code",
      "source": [
        "london_sights[2:]"
      ],
      "metadata": {
        "colab": {
          "base_uri": "https://localhost:8080/"
        },
        "id": "HWEoPJi2VG80",
        "outputId": "a699129a-8efa-49fd-b0e1-e7a1c82749ec"
      },
      "execution_count": 10,
      "outputs": [
        {
          "output_type": "execute_result",
          "data": {
            "text/plain": [
              "['british museum', 'london eye']"
            ]
          },
          "metadata": {},
          "execution_count": 10
        }
      ]
    },
    {
      "cell_type": "code",
      "source": [
        "london_sights[0:2]"
      ],
      "metadata": {
        "colab": {
          "base_uri": "https://localhost:8080/"
        },
        "id": "Ilo2JdzQVMMI",
        "outputId": "d41428b7-a0d5-46bd-9241-7c125b4267aa"
      },
      "execution_count": 11,
      "outputs": [
        {
          "output_type": "execute_result",
          "data": {
            "text/plain": [
              "['buckingham palace', 'tower of london']"
            ]
          },
          "metadata": {},
          "execution_count": 11
        }
      ]
    },
    {
      "cell_type": "code",
      "source": [
        "london_sights.append(\"big ben\")"
      ],
      "metadata": {
        "id": "27e6Y3aOYbda"
      },
      "execution_count": 12,
      "outputs": []
    },
    {
      "cell_type": "code",
      "source": [
        "print(london_sights)"
      ],
      "metadata": {
        "colab": {
          "base_uri": "https://localhost:8080/"
        },
        "id": "bXghnlO5Yh-U",
        "outputId": "ff1f8c00-aa94-44ab-ed5b-eef456bc323e"
      },
      "execution_count": 13,
      "outputs": [
        {
          "output_type": "stream",
          "name": "stdout",
          "text": [
            "['buckingham palace', 'tower of london', 'british museum', 'london eye', 'big ben']\n"
          ]
        }
      ]
    },
    {
      "cell_type": "markdown",
      "source": [
        "What if we used dictionaries? What key would we want? What value would we want? Remember, keys are things we can look up to find the values."
      ],
      "metadata": {
        "id": "RiHvXfFpXRWu"
      }
    },
    {
      "cell_type": "code",
      "source": [
        "london_sights_dict = {\"westminster\": \"buckingham palace\", \"the city\": \"tower of london\", \"bloomsbury\": \"british museum\", \"south bank\": \"london eye\"}"
      ],
      "metadata": {
        "id": "R9fvAUajVVtE"
      },
      "execution_count": 14,
      "outputs": []
    },
    {
      "cell_type": "code",
      "source": [
        "london_sights_dict[\"westminster\"]"
      ],
      "metadata": {
        "colab": {
          "base_uri": "https://localhost:8080/",
          "height": 35
        },
        "id": "0iP3GrufXMRv",
        "outputId": "9d8e4f20-0e45-4ea0-dd26-6ac25b799ded"
      },
      "execution_count": 15,
      "outputs": [
        {
          "output_type": "execute_result",
          "data": {
            "text/plain": [
              "'buckingham palace'"
            ],
            "application/vnd.google.colaboratory.intrinsic+json": {
              "type": "string"
            }
          },
          "metadata": {},
          "execution_count": 15
        }
      ]
    },
    {
      "cell_type": "code",
      "source": [
        "london_sights_dict[\"bloomsbury\"]"
      ],
      "metadata": {
        "colab": {
          "base_uri": "https://localhost:8080/",
          "height": 35
        },
        "id": "sEXACeLUXxxe",
        "outputId": "aa97dd3d-e1c3-4377-c4d9-42d335dfff98"
      },
      "execution_count": 16,
      "outputs": [
        {
          "output_type": "execute_result",
          "data": {
            "text/plain": [
              "'british museum'"
            ],
            "application/vnd.google.colaboratory.intrinsic+json": {
              "type": "string"
            }
          },
          "metadata": {},
          "execution_count": 16
        }
      ]
    },
    {
      "cell_type": "code",
      "source": [
        "london_sights_dict['covent garden'] = 'royal opera house'\n",
        "london_sights_dict"
      ],
      "metadata": {
        "colab": {
          "base_uri": "https://localhost:8080/"
        },
        "id": "UCSIt-uDX4aF",
        "outputId": "8245fb2a-4aa0-4ff5-b6a8-bd3ddc37bdaa"
      },
      "execution_count": 17,
      "outputs": [
        {
          "output_type": "execute_result",
          "data": {
            "text/plain": [
              "{'westminster': 'buckingham palace',\n",
              " 'the city': 'tower of london',\n",
              " 'bloomsbury': 'british museum',\n",
              " 'south bank': 'london eye',\n",
              " 'covent garden': 'royal opera house'}"
            ]
          },
          "metadata": {},
          "execution_count": 17
        }
      ]
    },
    {
      "cell_type": "code",
      "source": [
        "london_sights_dict['southwark'] = ['the shard', 'borough market']\n",
        "london_sights_dict"
      ],
      "metadata": {
        "colab": {
          "base_uri": "https://localhost:8080/"
        },
        "id": "EFdj1v0IZb2I",
        "outputId": "14c01707-11ed-44d8-93c5-9e7ca95de1d4"
      },
      "execution_count": 18,
      "outputs": [
        {
          "output_type": "execute_result",
          "data": {
            "text/plain": [
              "{'westminster': 'buckingham palace',\n",
              " 'the city': 'tower of london',\n",
              " 'bloomsbury': 'british museum',\n",
              " 'south bank': 'london eye',\n",
              " 'covent garden': 'royal opera house',\n",
              " 'southwark': ['the shard', 'borough market']}"
            ]
          },
          "metadata": {},
          "execution_count": 18
        }
      ]
    },
    {
      "cell_type": "code",
      "source": [
        "london_sights_dict['southwark']"
      ],
      "metadata": {
        "colab": {
          "base_uri": "https://localhost:8080/"
        },
        "id": "UY8vMZ4xbUSk",
        "outputId": "f74fdd7f-0ba5-40ce-b0b0-149eedbc083e"
      },
      "execution_count": 19,
      "outputs": [
        {
          "output_type": "execute_result",
          "data": {
            "text/plain": [
              "['the shard', 'borough market']"
            ]
          },
          "metadata": {},
          "execution_count": 19
        }
      ]
    },
    {
      "cell_type": "code",
      "source": [
        "london_sights_dict['southwark'][0]"
      ],
      "metadata": {
        "colab": {
          "base_uri": "https://localhost:8080/",
          "height": 35
        },
        "id": "Lr1d6QS9biKE",
        "outputId": "8b4c6b63-6198-4b80-8fac-b0df3cba8d1e"
      },
      "execution_count": 20,
      "outputs": [
        {
          "output_type": "execute_result",
          "data": {
            "text/plain": [
              "'the shard'"
            ],
            "application/vnd.google.colaboratory.intrinsic+json": {
              "type": "string"
            }
          },
          "metadata": {},
          "execution_count": 20
        }
      ]
    },
    {
      "cell_type": "markdown",
      "source": [
        "### Tuples and Sets"
      ],
      "metadata": {
        "id": "fvTKKbbR3-J3"
      }
    },
    {
      "cell_type": "code",
      "source": [
        "# A set is an unordered list\n",
        "set_re = set(london_sights)\n",
        "set_re"
      ],
      "metadata": {
        "colab": {
          "base_uri": "https://localhost:8080/"
        },
        "id": "SBs0VWwD4T8F",
        "outputId": "1a8830de-9c51-4f41-da5f-5c73312bb154"
      },
      "execution_count": 21,
      "outputs": [
        {
          "output_type": "execute_result",
          "data": {
            "text/plain": [
              "{'big ben',\n",
              " 'british museum',\n",
              " 'buckingham palace',\n",
              " 'london eye',\n",
              " 'tower of london'}"
            ]
          },
          "metadata": {},
          "execution_count": 21
        }
      ]
    },
    {
      "cell_type": "code",
      "source": [
        "#a tuple is a way of storing two things at the same time\n",
        "tuple_list = [(1,5), (3,5), (7,8)]\n",
        "tuple_list[0]"
      ],
      "metadata": {
        "colab": {
          "base_uri": "https://localhost:8080/"
        },
        "id": "9Bg9fCGwUA_Q",
        "outputId": "e16a5813-9cc6-4391-8b8e-e04eba7c9a2b"
      },
      "execution_count": 22,
      "outputs": [
        {
          "output_type": "execute_result",
          "data": {
            "text/plain": [
              "(1, 5)"
            ]
          },
          "metadata": {},
          "execution_count": 22
        }
      ]
    },
    {
      "cell_type": "code",
      "source": [
        "tuple_list[0][0]"
      ],
      "metadata": {
        "colab": {
          "base_uri": "https://localhost:8080/"
        },
        "id": "9Ad-FJmDZRlZ",
        "outputId": "35355501-2457-4d83-fd1b-8ef128069304"
      },
      "execution_count": 23,
      "outputs": [
        {
          "output_type": "execute_result",
          "data": {
            "text/plain": [
              "1"
            ]
          },
          "metadata": {},
          "execution_count": 23
        }
      ]
    },
    {
      "cell_type": "markdown",
      "source": [
        "### Concept 4: Conditionals: If/Then statements\n"
      ],
      "metadata": {
        "id": "VcnPeVggbx9F"
      }
    },
    {
      "cell_type": "code",
      "source": [
        "rainy = True\n",
        "\n",
        "if rainy == True:\n",
        "  print(\"We're having some real scottish weather. Time to stay inside\")\n",
        "else:\n",
        "  print(\"Let's go outside!\")"
      ],
      "metadata": {
        "colab": {
          "base_uri": "https://localhost:8080/"
        },
        "id": "pj69FcxDb2dT",
        "outputId": "07ee795d-5e6e-4e25-cdff-b2531fa0244f"
      },
      "execution_count": 24,
      "outputs": [
        {
          "output_type": "stream",
          "name": "stdout",
          "text": [
            "We're having some real scottish weather. Time to stay inside\n"
          ]
        }
      ]
    },
    {
      "cell_type": "code",
      "source": [
        "rainy = False\n",
        "\n",
        "if rainy == True:\n",
        "  print(\"We're having some real scottish weather. Time to stay inside\")\n",
        "else:\n",
        "  print(\"Let's go outside!\")"
      ],
      "metadata": {
        "colab": {
          "base_uri": "https://localhost:8080/"
        },
        "id": "BMDWUTryh5cn",
        "outputId": "757441c5-14b7-4d5b-c9e3-0d3d6b59c438"
      },
      "execution_count": 25,
      "outputs": [
        {
          "output_type": "stream",
          "name": "stdout",
          "text": [
            "Let's go outside!\n"
          ]
        }
      ]
    },
    {
      "cell_type": "markdown",
      "source": [
        "What if we have a more complex condition?\n",
        "\n",
        "1. `and` checks if both the left-hand and right-hand expressions are `True`. If they are, the whole expression evaluates to `True`; otherwise it evaluates to `False`.\n",
        "\n",
        "2. `or` checks if either the left-hand or right-hand expressions are `True` (or both of them). If at least one of these expressions evaluates to `True`, then the whole expression evaluates to `True`; otherwise it evaluates to `False`.\n",
        "\n",
        "3. `not` will reverse the value of whatever expression we are checking. So `not True` is the same as `False`, and `not False` is the same as `True`.\n"
      ],
      "metadata": {
        "id": "PepZ8ssKFVOI"
      }
    },
    {
      "cell_type": "markdown",
      "source": [
        "Worth noting: Truth tables are very relevant here. See \"Learn Python the Hard Way\" by Zed A. Shaw for more detail on this."
      ],
      "metadata": {
        "id": "RiL8bmSXYWBG"
      }
    },
    {
      "cell_type": "code",
      "source": [
        "rainy = True\n",
        "tired = False\n",
        "if rainy and tired:\n",
        "  print (\"Stay in bed today!\")\n",
        "elif rainy and not tired:\n",
        "  print(\"Time to study!\")\n",
        "elif not rainy and tired:\n",
        "  print(\"Perhaps you'd like to sunbathe?\")\n",
        "else:\n",
        "  print(\"Time to plan a trip!\")"
      ],
      "metadata": {
        "colab": {
          "base_uri": "https://localhost:8080/"
        },
        "id": "d2MAHEgin9wO",
        "outputId": "3ddbaffa-f100-49be-e20c-18e84991ce56"
      },
      "execution_count": 26,
      "outputs": [
        {
          "output_type": "stream",
          "name": "stdout",
          "text": [
            "Time to study!\n"
          ]
        }
      ]
    },
    {
      "cell_type": "code",
      "source": [
        "rainy = False\n",
        "tired = False\n",
        "if rainy and tired:\n",
        "  print (\"Stay in bed today!\")\n",
        "elif rainy and not tired:\n",
        "  print(\"Time to study!\")\n",
        "elif not rainy and tired:\n",
        "  print(\"Perhaps you'd like to sunbathe?\")\n",
        "else:\n",
        "  print(\"Time to plan a trip!\")"
      ],
      "metadata": {
        "colab": {
          "base_uri": "https://localhost:8080/"
        },
        "id": "IELn8Sgl45N7",
        "outputId": "80fd74f9-3168-4f22-9574-048cd73ed5de"
      },
      "execution_count": 27,
      "outputs": [
        {
          "output_type": "stream",
          "name": "stdout",
          "text": [
            "Time to plan a trip!\n"
          ]
        }
      ]
    },
    {
      "cell_type": "markdown",
      "source": [
        "### Concept 5: Comparison Operators"
      ],
      "metadata": {
        "id": "Rj2m5yB25NeI"
      }
    },
    {
      "cell_type": "markdown",
      "source": [
        "1.   `==` checks to see if two values/expressions are equal\n",
        "2.   `!=` checks to see if two values/expressions are not equal\n",
        "3.   `>` checks to see if the left-hand value/expression is greater than the right-hand value/expression\n",
        "4.   `<` checks to see if the left-hand value/expression is less than the right-hand value/expression\n",
        "5. `>=` checks to see if the left-hand value/expression is greater than or equal to the right-hand value/expression\n",
        "6. `<=` checks to see if the left-hand value/expression is less than or equal to the right-hand value/expression\n",
        "\n",
        "If the comparison condition is satisfied, the whole expression will evaluate to `True`. If it's not, the whole expression evaluates to `False`."
      ],
      "metadata": {
        "id": "f-BeWjk-E0E0"
      }
    },
    {
      "cell_type": "code",
      "source": [
        "cost_of_bills = 500\n",
        "\n",
        "if cost_of_bills <100:\n",
        "  subsidy = 0.2*cost_of_bills\n",
        "elif cost_of_bills >= 100 and cost_of_bills <= 300:\n",
        "  subsidy = 0.4*cost_of_bills\n",
        "else:\n",
        "  subsidy = 0.5*cost_of_bills\n",
        "print(\"your final energy bill is\", cost_of_bills-subsidy, \"pounds\")\n"
      ],
      "metadata": {
        "colab": {
          "base_uri": "https://localhost:8080/"
        },
        "id": "xAqCSCQUEmZh",
        "outputId": "6ec1c87c-1cc4-490d-b2f5-5678509103dc"
      },
      "execution_count": 28,
      "outputs": [
        {
          "output_type": "stream",
          "name": "stdout",
          "text": [
            "your final energy bill is 250.0 pounds\n"
          ]
        }
      ]
    },
    {
      "cell_type": "markdown",
      "source": [
        "### Concept 6: Loops"
      ],
      "metadata": {
        "id": "YAzYbhi7LNj9"
      }
    },
    {
      "cell_type": "code",
      "source": [
        "for i in range(0,4): #can also be written as for i in range(4)\n",
        "  print(i)"
      ],
      "metadata": {
        "colab": {
          "base_uri": "https://localhost:8080/"
        },
        "id": "OmllEmRnHeMS",
        "outputId": "f35e93e6-f745-49a9-9ab9-d92c3f692152"
      },
      "execution_count": 29,
      "outputs": [
        {
          "output_type": "stream",
          "name": "stdout",
          "text": [
            "0\n",
            "1\n",
            "2\n",
            "3\n"
          ]
        }
      ]
    },
    {
      "cell_type": "markdown",
      "source": [
        "What if we wanted to loop through the list we made earlier and print each of the items in the list?"
      ],
      "metadata": {
        "id": "cEQ1krU7LKvh"
      }
    },
    {
      "cell_type": "code",
      "source": [
        "for place in london_sights:\n",
        "  print(place)"
      ],
      "metadata": {
        "colab": {
          "base_uri": "https://localhost:8080/"
        },
        "id": "69DEO8P_-oRo",
        "outputId": "78677341-289d-4150-9fae-b141b64119e0"
      },
      "execution_count": 30,
      "outputs": [
        {
          "output_type": "stream",
          "name": "stdout",
          "text": [
            "buckingham palace\n",
            "tower of london\n",
            "british museum\n",
            "london eye\n",
            "big ben\n"
          ]
        }
      ]
    },
    {
      "cell_type": "markdown",
      "source": [
        "What if we wanted to print the position in the list as well? (The index?)"
      ],
      "metadata": {
        "id": "gIvz1J5ATEnI"
      }
    },
    {
      "cell_type": "code",
      "source": [
        "for i, place in enumerate(london_sights):\n",
        "  print(\"the position is\", i, \"and the place is\", place)"
      ],
      "metadata": {
        "colab": {
          "base_uri": "https://localhost:8080/"
        },
        "id": "ERtj3_LG-7dx",
        "outputId": "676333d1-761b-4435-b1a5-a02221ca9234"
      },
      "execution_count": 31,
      "outputs": [
        {
          "output_type": "stream",
          "name": "stdout",
          "text": [
            "the position is 0 and the place is buckingham palace\n",
            "the position is 1 and the place is tower of london\n",
            "the position is 2 and the place is british museum\n",
            "the position is 3 and the place is london eye\n",
            "the position is 4 and the place is big ben\n"
          ]
        }
      ]
    },
    {
      "cell_type": "markdown",
      "source": [
        "We could also do this for the dictionary"
      ],
      "metadata": {
        "id": "eY-LOGFXTd9Q"
      }
    },
    {
      "cell_type": "code",
      "source": [
        "for key in london_sights_dict:\n",
        "  print(\"the key is\", key)\n",
        "  print(\"the value is\", london_sights_dict[key])"
      ],
      "metadata": {
        "colab": {
          "base_uri": "https://localhost:8080/"
        },
        "id": "o-Pq5XQUTk9H",
        "outputId": "486776a5-cb78-4b47-ef58-6452d8946516"
      },
      "execution_count": 32,
      "outputs": [
        {
          "output_type": "stream",
          "name": "stdout",
          "text": [
            "the key is westminster\n",
            "the value is buckingham palace\n",
            "the key is the city\n",
            "the value is tower of london\n",
            "the key is bloomsbury\n",
            "the value is british museum\n",
            "the key is south bank\n",
            "the value is london eye\n",
            "the key is covent garden\n",
            "the value is royal opera house\n",
            "the key is southwark\n",
            "the value is ['the shard', 'borough market']\n"
          ]
        }
      ]
    },
    {
      "cell_type": "code",
      "source": [
        "for key, value in london_sights_dict.items():\n",
        "  print(\"the key is\", key)\n",
        "  print(\"the value is\", value)"
      ],
      "metadata": {
        "colab": {
          "base_uri": "https://localhost:8080/"
        },
        "id": "49_qzxzvUotU",
        "outputId": "966d4a16-6ffc-43fd-8ea2-3baf58d8b503"
      },
      "execution_count": 33,
      "outputs": [
        {
          "output_type": "stream",
          "name": "stdout",
          "text": [
            "the key is westminster\n",
            "the value is buckingham palace\n",
            "the key is the city\n",
            "the value is tower of london\n",
            "the key is bloomsbury\n",
            "the value is british museum\n",
            "the key is south bank\n",
            "the value is london eye\n",
            "the key is covent garden\n",
            "the value is royal opera house\n",
            "the key is southwark\n",
            "the value is ['the shard', 'borough market']\n"
          ]
        }
      ]
    },
    {
      "cell_type": "markdown",
      "source": [
        "### Concept 7: Functions"
      ],
      "metadata": {
        "id": "bbXK8Og9VYPF"
      }
    },
    {
      "cell_type": "markdown",
      "source": [
        "Functions are a useful way of cleaning up repetitive code, and also helping break apart the different component pieces of a project to make it possible to think through the final solution in a systematic way."
      ],
      "metadata": {
        "id": "aHmQpYL_2lip"
      }
    },
    {
      "cell_type": "code",
      "source": [
        "# a simple average function\n",
        "def avg_dsiw (number_1, number_2):\n",
        "  ''' \n",
        "  This function takes two numbers and finds the average of them\n",
        "  '''\n",
        "  avg_calc = (number_1 + number_2)/2\n",
        "  return avg_calc"
      ],
      "metadata": {
        "id": "8FRUYDWGU-JT"
      },
      "execution_count": 34,
      "outputs": []
    },
    {
      "cell_type": "code",
      "source": [
        "avg_dsiw (60, 40)"
      ],
      "metadata": {
        "colab": {
          "base_uri": "https://localhost:8080/"
        },
        "id": "yz4Uxrza3MzH",
        "outputId": "a054a56a-9730-47aa-affb-2a6e83ac60ef"
      },
      "execution_count": 35,
      "outputs": [
        {
          "output_type": "execute_result",
          "data": {
            "text/plain": [
              "50.0"
            ]
          },
          "metadata": {},
          "execution_count": 35
        }
      ]
    },
    {
      "cell_type": "markdown",
      "source": [
        "It is also common to call a function within a function, triggering the function call stack. See below the example of calculating a tax."
      ],
      "metadata": {
        "id": "QY-k-rxBR0j3"
      }
    },
    {
      "cell_type": "code",
      "source": [
        "def tax (p, rate):\n",
        "  '''\n",
        "  Compute the tax for a given price\n",
        "  Inputs:\n",
        "    -p (float): price\n",
        "    -rate (float): tax rate\n",
        "  Returns (float): the computed tax\n",
        "  '''\n",
        "  t = p*rate\n",
        "  return t\n",
        "\n",
        "def taxed_price (price, t):\n",
        "  '''\n",
        "  Compute the price with tax.\n",
        "  Inputs:\n",
        "    -price (float): price\n",
        "    -rate (float): tax rate\n",
        "  Returns (float): price with tax\n",
        "  '''\n",
        "  price = price + tax(price, t)\n",
        "  return price \n",
        "\n",
        "def main ():\n",
        "  '''\n",
        "  Compute and print the price 100 with tax\n",
        "  Inputs: None\n",
        "  Returns: None\n",
        "  '''\n",
        "  p = 100\n",
        "  tp = taxed_price(p, 0.10)\n",
        "\n",
        "  print(\"The taxed price of {} is {}\".format(p, tp))"
      ],
      "metadata": {
        "id": "_Mzx2P7oSMOA"
      },
      "execution_count": 36,
      "outputs": []
    },
    {
      "cell_type": "markdown",
      "source": [
        "### Time for...python EXERCISES!"
      ],
      "metadata": {
        "id": "tZ5aXvBWZlwd"
      }
    },
    {
      "cell_type": "markdown",
      "source": [
        "### Exercise 1: shopping for wifi! \n",
        "You’re a PhD student on a budget and you're trying to find the best broadband supplier at the cheapest possible price in your area. The prices should be stored in a list, called `prices`. Write a program that traverses the list and then prints the lowest price from the list. \n",
        "\n",
        "**Note**: Do not use the built-in function `min` in your program!"
      ],
      "metadata": {
        "id": "RHpx55_lPMUp"
      }
    },
    {
      "cell_type": "code",
      "source": [
        "#Solution to shopping for wifi exercise here"
      ],
      "metadata": {
        "id": "zXOcinMAGo7i"
      },
      "execution_count": 36,
      "outputs": []
    },
    {
      "cell_type": "markdown",
      "source": [
        "### Exercise 2: Temperature converter (for us Americans who need a conversion!)\n",
        "Create a function that can convert a given temperature from Celsius to Fahrenheit, and prints out a clear message saying \"Today the temperature is __ degrees Celsius, which is __ in Fahrenheit.\""
      ],
      "metadata": {
        "id": "45gtUb6eV1oz"
      }
    },
    {
      "cell_type": "code",
      "source": [
        "#Solution to temperature converter exercise here"
      ],
      "metadata": {
        "id": "bdBGdb01XEF7"
      },
      "execution_count": 37,
      "outputs": []
    },
    {
      "cell_type": "markdown",
      "source": [
        "### Exercise 3: Edinburgh restaurants\n",
        "Let's say your friend is in town and wants restaurant recommendations. Make a dictionary of the restaurants so that your friend can search based on the cuisine they are interested in. Once you're done, loop through the dictionary and print all of the cuisines so we can take a look and salivate over them!"
      ],
      "metadata": {
        "id": "HfqtlmBbctMb"
      }
    },
    {
      "cell_type": "code",
      "source": [
        "#Solution to restaurant example here"
      ],
      "metadata": {
        "id": "DT8gXjZfo6jB"
      },
      "execution_count": null,
      "outputs": []
    },
    {
      "cell_type": "markdown",
      "source": [
        "### Exercise 4: Grading time!\n",
        "Imagine you're now a grader and need to assign grades based on the scores that the students have after doing all their assignments. Let's say your instructor has asked you to use the following system:\n",
        "\n",
        "\n",
        "*   A grade of 90-100 percent gets an A\n",
        "*   A grade of 80-89 percent gets a B\n",
        "*   A grade of 70-79 percent gets a C\n",
        "*   A grade of 60-69 percent gets a D\n",
        "*   A grade of 50 percent or below gets an F\n",
        "\n",
        "Create a function that takes an input of the raw score and convert that to a letter grade.\n",
        "\n",
        "\n",
        "\n",
        "\n",
        "\n",
        "\n"
      ],
      "metadata": {
        "id": "t6H5UPQLuBkb"
      }
    },
    {
      "cell_type": "code",
      "source": [
        "#Solution to grading example here"
      ],
      "metadata": {
        "id": "Rrc2ry5dw-U3"
      },
      "execution_count": null,
      "outputs": []
    }
  ]
}