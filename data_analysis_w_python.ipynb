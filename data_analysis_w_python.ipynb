{
  "nbformat": 4,
  "nbformat_minor": 0,
  "metadata": {
    "colab": {
      "provenance": []
    },
    "kernelspec": {
      "name": "python3",
      "display_name": "Python 3"
    },
    "language_info": {
      "name": "python"
    }
  },
  "cells": [
    {
      "cell_type": "markdown",
      "source": [
        "### Now for the main event.....ANALYSING DATA!"
      ],
      "metadata": {
        "id": "tf3WORWFH-MI"
      }
    },
    {
      "cell_type": "markdown",
      "source": [
        "We will be using pandas in python in order to analyse a dataset.\n",
        "First we need to import all the necessary packages."
      ],
      "metadata": {
        "id": "S11CS7LRIDHN"
      }
    },
    {
      "cell_type": "code",
      "source": [
        "import pandas as pd\n",
        "import matplotlib.pyplot as plt\n",
        "import numpy as np"
      ],
      "metadata": {
        "id": "l9yPiG8KPxjb"
      },
      "execution_count": null,
      "outputs": []
    },
    {
      "cell_type": "markdown",
      "source": [
        "First, we have to read in the data. If we have a csv, we can use the following function to read the data."
      ],
      "metadata": {
        "id": "GXi_tDMedb4o"
      }
    },
    {
      "cell_type": "code",
      "source": [
        "housing_data = pd.read_csv(\"sample_data/california_housing_train.csv\")"
      ],
      "metadata": {
        "id": "EtuDAFpbQiIK"
      },
      "execution_count": null,
      "outputs": []
    },
    {
      "cell_type": "markdown",
      "source": [
        "What if we want to know the column names in the dataset?"
      ],
      "metadata": {
        "id": "kdDPRrT4dmgj"
      }
    },
    {
      "cell_type": "code",
      "source": [
        "housing_data.columns"
      ],
      "metadata": {
        "collapsed": true,
        "id": "SMvdKBqcc2_o"
      },
      "execution_count": null,
      "outputs": []
    },
    {
      "cell_type": "markdown",
      "source": [
        "We can also try and look at a few rows of our dataset"
      ],
      "metadata": {
        "id": "aj7C7XgAdr34"
      }
    },
    {
      "cell_type": "code",
      "source": [
        "housing_data.head()"
      ],
      "metadata": {
        "collapsed": true,
        "id": "Lb8hsMi_o1QA"
      },
      "execution_count": null,
      "outputs": []
    },
    {
      "cell_type": "code",
      "source": [
        "housing_data.head(10)"
      ],
      "metadata": {
        "collapsed": true,
        "id": "vwe7wuDFbjg4"
      },
      "execution_count": null,
      "outputs": []
    },
    {
      "cell_type": "markdown",
      "source": [
        "It's possible to index into a specific row as well"
      ],
      "metadata": {
        "id": "wTslFhkGdzNn"
      }
    },
    {
      "cell_type": "code",
      "source": [
        "housing_data.iloc[0]"
      ],
      "metadata": {
        "collapsed": true,
        "id": "lx_NOpw1cu-T"
      },
      "execution_count": null,
      "outputs": []
    },
    {
      "cell_type": "markdown",
      "source": [
        "We might also want to know the size of our dataset"
      ],
      "metadata": {
        "id": "3GzuTNDSd4Rh"
      }
    },
    {
      "cell_type": "code",
      "source": [
        "housing_data.shape"
      ],
      "metadata": {
        "collapsed": true,
        "id": "z0FBMGgSbnOL"
      },
      "execution_count": null,
      "outputs": []
    },
    {
      "cell_type": "code",
      "source": [
        "len(housing_data)"
      ],
      "metadata": {
        "collapsed": true,
        "id": "gfAv4_ILHrHh"
      },
      "execution_count": null,
      "outputs": []
    },
    {
      "cell_type": "markdown",
      "source": [
        "Another common concern would be about whether there are any NAs in the dataset"
      ],
      "metadata": {
        "id": "p4rwV8knd8gs"
      }
    },
    {
      "cell_type": "code",
      "source": [
        "housing_data.isna().any()"
      ],
      "metadata": {
        "collapsed": true,
        "id": "HTPyrwvfo92B"
      },
      "execution_count": null,
      "outputs": []
    },
    {
      "cell_type": "markdown",
      "source": [
        "We might want to generally get a sense for the summary statistics in our dataset, such as mean, mode, etc."
      ],
      "metadata": {
        "id": "vQtVuWkDeEhn"
      }
    },
    {
      "cell_type": "code",
      "source": [
        "housing_data.describe()"
      ],
      "metadata": {
        "collapsed": true,
        "id": "_jWALh_5pbr7"
      },
      "execution_count": null,
      "outputs": []
    },
    {
      "cell_type": "markdown",
      "source": [
        "We might also make a histogram to visualize some of our columns"
      ],
      "metadata": {
        "id": "aR7omx4CiINd"
      }
    },
    {
      "cell_type": "code",
      "source": [
        "#plot\n",
        "plt.rcParams['figure.figsize'] = 16, 12\n",
        "housing_data[['total_rooms', 'total_bedrooms']].hist()\n",
        "plt.show()"
      ],
      "metadata": {
        "collapsed": true,
        "id": "8G9y3ePqph9p"
      },
      "execution_count": null,
      "outputs": []
    },
    {
      "cell_type": "markdown",
      "source": [
        "For more on matplotlib, visit: https://www.oreilly.com/library/view/python-data-science/9781491912126/ch04.html"
      ],
      "metadata": {
        "id": "2u8qyNLWJj7r"
      }
    },
    {
      "cell_type": "markdown",
      "source": [
        "Or a scatterplot to understand the relationship between two variables:"
      ],
      "metadata": {
        "id": "s_r3KsHcjLEz"
      }
    },
    {
      "cell_type": "code",
      "source": [
        "import seaborn as sns\n",
        "sns.scatterplot(x = 'total_bedrooms', y = 'median_house_value', data = housing_data)"
      ],
      "metadata": {
        "collapsed": true,
        "id": "l4zDzFAukJVI"
      },
      "execution_count": null,
      "outputs": []
    },
    {
      "cell_type": "markdown",
      "source": [
        "Take a look at the data again. Is it categorical or is it numerical? If it were categorical, there are different summary statistics we could use. Let's convert one of the columns to being categorical using binning."
      ],
      "metadata": {
        "id": "olqnV-P0ezBo"
      }
    },
    {
      "cell_type": "code",
      "source": [
        "housing_data['median_house_value_discrete'] = pd.qcut(housing_data['median_house_value'], 8)"
      ],
      "metadata": {
        "id": "wywvF5RMgN50"
      },
      "execution_count": null,
      "outputs": []
    },
    {
      "cell_type": "code",
      "source": [
        "housing_data.head()"
      ],
      "metadata": {
        "collapsed": true,
        "id": "Oh_6J2dOfwop"
      },
      "execution_count": null,
      "outputs": []
    },
    {
      "cell_type": "markdown",
      "source": [
        "Sometimes it is helpful to know how many observations we have of each categorical variable."
      ],
      "metadata": {
        "id": "hdz_H5YqeLjs"
      }
    },
    {
      "cell_type": "code",
      "source": [
        "housing_data[['median_house_value_discrete']].value_counts()"
      ],
      "metadata": {
        "collapsed": true,
        "id": "VHZ8Ytxfb7oU"
      },
      "execution_count": null,
      "outputs": []
    },
    {
      "cell_type": "markdown",
      "source": [
        "What if we want to convert into a prettier dataframe?"
      ],
      "metadata": {
        "id": "-EvgzFEHmqlX"
      }
    },
    {
      "cell_type": "code",
      "source": [
        "housing_data[['median_house_value_discrete']].value_counts().reset_index(name=\"counts per home value category\")"
      ],
      "metadata": {
        "id": "85CTdDmAmF4S"
      },
      "execution_count": null,
      "outputs": []
    },
    {
      "cell_type": "markdown",
      "source": [
        "How about ordering the categories?"
      ],
      "metadata": {
        "id": "0lv2vdrEmuqQ"
      }
    },
    {
      "cell_type": "code",
      "source": [
        "housing_data[['median_house_value_discrete']].value_counts().reset_index(name=\"counts per home value category\").sort_values(ascending=True, by='median_house_value_discrete')"
      ],
      "metadata": {
        "id": "qRE067HImMMA"
      },
      "execution_count": null,
      "outputs": []
    },
    {
      "cell_type": "code",
      "source": [
        "housing_data.groupby(['median_house_value_discrete']).size().reset_index(name=\"counts per home value category\").sort_values(ascending=True, by='median_house_value_discrete')"
      ],
      "metadata": {
        "id": "CBzKT4BSmjUj"
      },
      "execution_count": null,
      "outputs": []
    }
  ]
}